{
 "cells": [
  {
   "cell_type": "markdown",
   "metadata": {},
   "source": [
    "# Dilithium algorithm\n",
    "## Description\n",
    "This is second winner of the NIST competition.\n",
    "Dilithium algorithm provides signing and verification of the assets (docs, files etc.)\n",
    "## Math Problem\n",
    "This algorithms has the same problem as kyber. But he uses it for signing a assets.\n"
   ]
  }
 ],
 "metadata": {
  "language_info": {
   "name": "python"
  }
 },
 "nbformat": 4,
 "nbformat_minor": 2
}
