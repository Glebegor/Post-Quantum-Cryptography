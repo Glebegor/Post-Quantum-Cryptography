{
 "cells": [
  {
   "cell_type": "code",
   "execution_count": null,
   "metadata": {},
   "outputs": [],
   "source": []
  },
  {
   "cell_type": "markdown",
   "metadata": {},
   "source": [
    "# Kyber algorithm\n",
    "\n",
    "## Description\n",
    "\n",
    "This algorithm uses to provide security KEM in TLS, encryption, IoT etc, OpenSSL.\n",
    "\n",
    "## Math Problem\n",
    "\n",
    "### Lattice-problem\n",
    "\n",
    "The lattice problem is a class of mathematical problems related to the geometric structure of lattices, which are grids of regularly spaced points in \n",
    "n\n",
    "n-dimensional space. Key problems include the Shortest Vector Problem (SVP) and the Closest Vector Problem (CVP). SVP seeks the shortest non-zero vector in a lattice, while CVP finds the lattice point nearest to a given target. These problems are foundational in cryptography, especially in constructing post-quantum cryptographic schemes due to their computational hardness. Lattice problems are challenging even for quantum computers, making them a cornerstone for secure communication in the face of advancing quantum technology.\n",
    "\n",
    "## Functions\n",
    "\n",
    "n = ? - param of kyber can be different<br>\n",
    "q = ? - param of kyber can be different<br>\n",
    "m = x^n + x^(n-1) ... x^0 - message\n",
    "\n",
    "### Keygen\n",
    "\n",
    "Key generation working has a few steps:\n",
    "\n",
    "1. It's a determination of **s**-polynom and **e**-polynom by normal with mod **q**\n",
    "2. Find **a** like a random polynom 0-q \n",
    "3. Find b as (a*s + e) mod q\n",
    "\n",
    "s - private key<br>\n",
    "(a, b) - public key\n",
    "\n",
    "### Encrypt\n",
    "\n",
    "Encryption has a few steps:\n",
    "\n",
    "1. r - bit's polynom\n",
    "2. Binomial gen of e1 and e2\n",
    "3. find c1 and c2 <br>\n",
    "c1 = (a*r + e1) mod q<br>\n",
    "c2 = (b*r + e2 + (m*(q/2)) mod q) mod q\n",
    "\n",
    "### Decrypt\n",
    "\n",
    "Decryption example with math termin:\n",
    "\n",
    "1. m1 = (c2 - s * c1) mod q\n",
    "2. m = round(2 * m1 / q)% 2\n"
   ]
  },
  {
   "cell_type": "code",
   "execution_count": null,
   "metadata": {},
   "outputs": [],
   "source": []
  },
  {
   "cell_type": "code",
   "execution_count": 42,
   "metadata": {},
   "outputs": [],
   "source": [
    "import numpy as np"
   ]
  },
  {
   "cell_type": "code",
   "execution_count": 43,
   "metadata": {},
   "outputs": [],
   "source": [
    "q_conf = 7\n",
    "n_conf = 3\n",
    "m_conf = np.random.randint(0, 2, size=n_conf)  # Binary message"
   ]
  },
  {
   "cell_type": "code",
   "execution_count": 44,
   "metadata": {},
   "outputs": [],
   "source": [
    "def keygen(q, n):\n",
    "    a = np.random.randint(0, q, size=n)\n",
    "    s = np.random.normal(loc=0, scale=1, size=n).astype(int) % q\n",
    "    e = np.random.normal(loc=0, scale=1, size=n).astype(int) % q\n",
    "    b = (a * s + e) % q\n",
    "    return s, (a, b), e"
   ]
  },
  {
   "cell_type": "code",
   "execution_count": 45,
   "metadata": {},
   "outputs": [],
   "source": [
    "def encrypt(m, pub_key, n, q):\n",
    "    r = np.random.randint(0, 2, size=n)\n",
    "    e1 = np.random.binomial(1, 0.5, size=n) - np.random.binomial(1, 0.5, size=n)\n",
    "    e2 = np.random.binomial(1, 0.5, size=n) - np.random.binomial(1, 0.5, size=n)\n",
    "    c1 = (pub_key[0] * r + e1) % q\n",
    "    c2 = (pub_key[1] * r + e2 + (m * (q // 2)) % q) % q\n",
    "    return c1, c2"
   ]
  },
  {
   "cell_type": "code",
   "execution_count": 46,
   "metadata": {},
   "outputs": [],
   "source": [
    "def decrypt(c, priv_key, n, q):\n",
    "    c1, c2 = c\n",
    "    decrypted = (c2 - priv_key * c1) % q\n",
    "    m = (2 * decrypted / q).round() % 2\n",
    "    return m.astype(int)"
   ]
  },
  {
   "cell_type": "code",
   "execution_count": 47,
   "metadata": {},
   "outputs": [],
   "source": [
    "priv_key, pub_key, error = keygen(q_conf, n_conf)\n",
    "c1, c2 = encrypt(m_conf, pub_key, n_conf, q_conf)\n",
    "m = decrypt((c1, c2), priv_key, n_conf, q_conf)"
   ]
  },
  {
   "cell_type": "code",
   "execution_count": 48,
   "metadata": {},
   "outputs": [
    {
     "name": "stdout",
     "output_type": "stream",
     "text": [
      "Original Message: [0 1 1]\n",
      "------------------------------\n",
      "Private Key: [0 0 1]\n",
      "Public Key (a, b): (array([3, 1, 4]), array([6, 0, 4]))\n",
      "------------------------------\n",
      "Ciphertext c1: [1 0 4]\n",
      "Ciphertext c2: [6 3 0]\n",
      "------------------------------\n",
      "Decrypted Message: [0 1 1]\n"
     ]
    }
   ],
   "source": [
    "print(\"Original Message:\", m_conf)\n",
    "print(\"-\" * 30)\n",
    "print(\"Private Key:\", priv_key)\n",
    "print(\"Public Key (a, b):\", pub_key)\n",
    "print(\"-\" * 30)\n",
    "print(\"Ciphertext c1:\", c1)\n",
    "print(\"Ciphertext c2:\", c2)\n",
    "print(\"-\" * 30)\n",
    "print(\"Decrypted Message:\", m)"
   ]
  },
  {
   "cell_type": "code",
   "execution_count": null,
   "metadata": {},
   "outputs": [
    {
     "ename": "KeyboardInterrupt",
     "evalue": "",
     "output_type": "error",
     "traceback": [
      "\u001b[0;31m---------------------------------------------------------------------------\u001b[0m",
      "\u001b[0;31mKeyboardInterrupt\u001b[0m                         Traceback (most recent call last)",
      "Cell \u001b[0;32mIn[49], line 11\u001b[0m\n\u001b[1;32m      9\u001b[0m n_conf \u001b[38;5;241m=\u001b[39m \u001b[38;5;241m3\u001b[39m\n\u001b[1;32m     10\u001b[0m m_conf \u001b[38;5;241m=\u001b[39m np\u001b[38;5;241m.\u001b[39mrandom\u001b[38;5;241m.\u001b[39mrandint(\u001b[38;5;241m0\u001b[39m, \u001b[38;5;241m2\u001b[39m, size\u001b[38;5;241m=\u001b[39mn_conf)  \u001b[38;5;66;03m# Binary message\u001b[39;00m\n\u001b[0;32m---> 11\u001b[0m priv_key, pub_key, error \u001b[38;5;241m=\u001b[39m \u001b[43mkeygen\u001b[49m\u001b[43m(\u001b[49m\u001b[43mq_conf\u001b[49m\u001b[43m,\u001b[49m\u001b[43m \u001b[49m\u001b[43mn_conf\u001b[49m\u001b[43m)\u001b[49m\n\u001b[1;32m     12\u001b[0m c1, c2 \u001b[38;5;241m=\u001b[39m encrypt(m_conf, pub_key, n_conf, q_conf)\n\u001b[1;32m     13\u001b[0m m \u001b[38;5;241m=\u001b[39m decrypt((c1, c2), priv_key, n_conf, q_conf)\n",
      "Cell \u001b[0;32mIn[44], line 2\u001b[0m, in \u001b[0;36mkeygen\u001b[0;34m(q, n)\u001b[0m\n\u001b[1;32m      1\u001b[0m \u001b[38;5;28;01mdef\u001b[39;00m \u001b[38;5;21mkeygen\u001b[39m(q, n):\n\u001b[0;32m----> 2\u001b[0m     a \u001b[38;5;241m=\u001b[39m \u001b[43mnp\u001b[49m\u001b[38;5;241;43m.\u001b[39;49m\u001b[43mrandom\u001b[49m\u001b[38;5;241;43m.\u001b[39;49m\u001b[43mrandint\u001b[49m\u001b[43m(\u001b[49m\u001b[38;5;241;43m0\u001b[39;49m\u001b[43m,\u001b[49m\u001b[43m \u001b[49m\u001b[43mq\u001b[49m\u001b[43m,\u001b[49m\u001b[43m \u001b[49m\u001b[43msize\u001b[49m\u001b[38;5;241;43m=\u001b[39;49m\u001b[43mn\u001b[49m\u001b[43m)\u001b[49m\n\u001b[1;32m      3\u001b[0m     s \u001b[38;5;241m=\u001b[39m np\u001b[38;5;241m.\u001b[39mrandom\u001b[38;5;241m.\u001b[39mnormal(loc\u001b[38;5;241m=\u001b[39m\u001b[38;5;241m0\u001b[39m, scale\u001b[38;5;241m=\u001b[39m\u001b[38;5;241m1\u001b[39m, size\u001b[38;5;241m=\u001b[39mn)\u001b[38;5;241m.\u001b[39mastype(\u001b[38;5;28mint\u001b[39m) \u001b[38;5;241m%\u001b[39m q\n\u001b[1;32m      4\u001b[0m     e \u001b[38;5;241m=\u001b[39m np\u001b[38;5;241m.\u001b[39mrandom\u001b[38;5;241m.\u001b[39mnormal(loc\u001b[38;5;241m=\u001b[39m\u001b[38;5;241m0\u001b[39m, scale\u001b[38;5;241m=\u001b[39m\u001b[38;5;241m1\u001b[39m, size\u001b[38;5;241m=\u001b[39mn)\u001b[38;5;241m.\u001b[39mastype(\u001b[38;5;28mint\u001b[39m) \u001b[38;5;241m%\u001b[39m q\n",
      "\u001b[0;31mKeyboardInterrupt\u001b[0m: "
     ]
    }
   ],
   "source": [
    "# In this easy example accuracy can't be 100 percent\n",
    "# And if we will do bigger n, accuracy will decrese\n",
    "\n",
    "repeat_count = 10000\n",
    "success_count = 0\n",
    "i = repeat_count\n",
    "while i: \n",
    "    q_conf = 7\n",
    "    n_conf = 3\n",
    "    m_conf = np.random.randint(0, 2, size=n_conf)  # Binary message\n",
    "    priv_key, pub_key, error = keygen(q_conf, n_conf)\n",
    "    c1, c2 = encrypt(m_conf, pub_key, n_conf, q_conf)\n",
    "    m = decrypt((c1, c2), priv_key, n_conf, q_conf)\n",
    "\n",
    "    for j in range(n_conf-1):\n",
    "        if(m[j] != m_conf[j]):\n",
    "            success_count -= 1\n",
    "            break\n",
    "    \n",
    "    success_count += 1\n",
    "    i -= 1\n",
    "\n",
    "print(f\"Accuracy: {round((success_count/repeat_count)*100, 2)}%\")\n"
   ]
  }
 ],
 "metadata": {
  "kernelspec": {
   "display_name": "Qiskit2",
   "language": "python",
   "name": "qiskit2"
  },
  "language_info": {
   "codemirror_mode": {
    "name": "ipython",
    "version": 3
   },
   "file_extension": ".py",
   "mimetype": "text/x-python",
   "name": "python",
   "nbconvert_exporter": "python",
   "pygments_lexer": "ipython3",
   "version": "3.12.4"
  }
 },
 "nbformat": 4,
 "nbformat_minor": 2
}
