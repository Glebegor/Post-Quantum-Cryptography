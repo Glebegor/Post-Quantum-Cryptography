{
 "cells": [
  {
   "cell_type": "markdown",
   "metadata": {},
   "source": [
    "# Kyber algorithm\n",
    "## Description\n",
    "## Math description\n",
    "## Functions\n",
    "### Keygen\n",
    "### Encrypt\n",
    "### Decrypt"
   ]
  },
  {
   "cell_type": "code",
   "execution_count": 94,
   "metadata": {},
   "outputs": [],
   "source": [
    "import numpy as np"
   ]
  },
  {
   "cell_type": "code",
   "execution_count": 96,
   "metadata": {},
   "outputs": [],
   "source": [
    "q_conf = 7\n",
    "n_conf = 3\n",
    "m_conf = np.random.randint(0, 2, size=n_conf)  # Binary message"
   ]
  },
  {
   "cell_type": "code",
   "execution_count": 97,
   "metadata": {},
   "outputs": [],
   "source": [
    "def keygen(q, n):\n",
    "    a = np.random.randint(0, q, size=n)\n",
    "    s = np.random.normal(loc=0, scale=1, size=n).astype(int) % q\n",
    "    e = np.random.normal(loc=0, scale=1, size=n).astype(int) % q\n",
    "    b = (a * s + e) % q\n",
    "    return s, (a, b), e"
   ]
  },
  {
   "cell_type": "code",
   "execution_count": 98,
   "metadata": {},
   "outputs": [],
   "source": [
    "def encrypt(m, pub_key, n, q):\n",
    "    r = np.random.randint(0, 2, size=n)\n",
    "    e1 = np.random.binomial(1, 0.5, size=n) - np.random.binomial(1, 0.5, size=n)\n",
    "    e2 = np.random.binomial(1, 0.5, size=n) - np.random.binomial(1, 0.5, size=n)\n",
    "    c1 = (pub_key[0] * r + e1) % q\n",
    "    c2 = (pub_key[1] * r + e2 + (m * (q // 2)) % q) % q\n",
    "    return c1, c2"
   ]
  },
  {
   "cell_type": "code",
   "execution_count": 99,
   "metadata": {},
   "outputs": [],
   "source": [
    "def decrypt(c, priv_key, n, q):\n",
    "    c1, c2 = c\n",
    "    decrypted = (c2 - priv_key * c1) % q\n",
    "    m = (2 * decrypted / q).round() % 2\n",
    "    return m.astype(int)"
   ]
  },
  {
   "cell_type": "code",
   "execution_count": 100,
   "metadata": {},
   "outputs": [],
   "source": [
    "priv_key, pub_key, error = keygen(q_conf, n_conf)\n",
    "c1, c2 = encrypt(m_conf, pub_key, n_conf, q_conf)\n",
    "m = decrypt((c1, c2), priv_key, n_conf, q_conf)"
   ]
  },
  {
   "cell_type": "code",
   "execution_count": 102,
   "metadata": {},
   "outputs": [
    {
     "name": "stdout",
     "output_type": "stream",
     "text": [
      "Original Message: [0 1 1]\n",
      "------------------------------\n",
      "Private Key: [2 0 0]\n",
      "Public Key (a, b): (array([1, 6, 1]), array([1, 0, 0]))\n",
      "------------------------------\n",
      "Ciphertext c1: [1 1 1]\n",
      "Ciphertext c2: [0 3 3]\n",
      "------------------------------\n",
      "Decrypted Message: [1 1 1]\n"
     ]
    }
   ],
   "source": [
    "print(\"Original Message:\", m_conf)\n",
    "print(\"-\" * 30)\n",
    "print(\"Private Key:\", priv_key)\n",
    "print(\"Public Key (a, b):\", pub_key)\n",
    "print(\"-\" * 30)\n",
    "print(\"Ciphertext c1:\", c1)\n",
    "print(\"Ciphertext c2:\", c2)\n",
    "print(\"-\" * 30)\n",
    "print(\"Decrypted Message:\", m)"
   ]
  },
  {
   "cell_type": "code",
   "execution_count": 166,
   "metadata": {},
   "outputs": [
    {
     "name": "stdout",
     "output_type": "stream",
     "text": [
      "Accuracy: 83.1%\n"
     ]
    }
   ],
   "source": [
    "# In this easy example accuracy can't be 100 percent\n",
    "# And if we will do bigger n, accuracy will decrese\n",
    "\n",
    "repeat_count = 1000\n",
    "success_count = 0\n",
    "i = repeat_count\n",
    "while i: \n",
    "    q_conf = 7\n",
    "    n_conf = 3\n",
    "    m_conf = np.random.randint(0, 2, size=n_conf)  # Binary message\n",
    "    priv_key, pub_key, error = keygen(q_conf, n_conf)\n",
    "    c1, c2 = encrypt(m_conf, pub_key, n_conf, q_conf)\n",
    "    m = decrypt((c1, c2), priv_key, n_conf, q_conf)\n",
    "\n",
    "    for j in range(n_conf-1):\n",
    "        if(m[j] != m_conf[j]):\n",
    "            success_count -= 1\n",
    "            break\n",
    "    \n",
    "    success_count += 1\n",
    "    i -= 1\n",
    "\n",
    "print(f\"Accuracy: {round((success_count/repeat_count)*100, 2)}%\")\n"
   ]
  }
 ],
 "metadata": {
  "kernelspec": {
   "display_name": "Qiskit2",
   "language": "python",
   "name": "qiskit2"
  },
  "language_info": {
   "codemirror_mode": {
    "name": "ipython",
    "version": 3
   },
   "file_extension": ".py",
   "mimetype": "text/x-python",
   "name": "python",
   "nbconvert_exporter": "python",
   "pygments_lexer": "ipython3",
   "version": "3.12.4"
  }
 },
 "nbformat": 4,
 "nbformat_minor": 2
}
