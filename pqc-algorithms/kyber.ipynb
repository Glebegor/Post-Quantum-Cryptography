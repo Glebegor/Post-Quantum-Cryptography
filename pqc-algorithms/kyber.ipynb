{
 "cells": [
  {
   "cell_type": "markdown",
   "metadata": {},
   "source": [
    "# Kyber algorithm\n",
    "## Description\n",
    "## Math description\n",
    "## Functions\n",
    "### Keygen\n",
    "### Encrypt\n",
    "### Decrypt"
   ]
  },
  {
   "cell_type": "code",
   "execution_count": 111,
   "metadata": {},
   "outputs": [
    {
     "data": {
      "text/plain": [
       "'\\nThis script describes kyber algorithm,\\nHave working with polynomials and rings\\n\\nFuncs:\\ndef keygen()\\ndef encrypt()\\ndef decrypt()\\n'"
      ]
     },
     "execution_count": 111,
     "metadata": {},
     "output_type": "execute_result"
    }
   ],
   "source": [
    "import sympy as sp\n",
    "import random\n",
    "\n",
    "'''\n",
    "This script describes kyber algorithm,\n",
    "Have working with polynomials and rings\n",
    "\n",
    "Funcs:\n",
    "def keygen()\n",
    "def encrypt()\n",
    "def decrypt()\n",
    "'''\n"
   ]
  }
 ],
 "metadata": {
  "kernelspec": {
   "display_name": "Qiskit2",
   "language": "python",
   "name": "qiskit2"
  },
  "language_info": {
   "codemirror_mode": {
    "name": "ipython",
    "version": 3
   },
   "file_extension": ".py",
   "mimetype": "text/x-python",
   "name": "python",
   "nbconvert_exporter": "python",
   "pygments_lexer": "ipython3",
   "version": "3.12.4"
  }
 },
 "nbformat": 4,
 "nbformat_minor": 2
}
