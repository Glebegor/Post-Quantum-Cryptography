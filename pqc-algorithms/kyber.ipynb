{
 "cells": [
  {
   "cell_type": "markdown",
   "metadata": {},
   "source": [
    "# Kyber algorithm\n",
    "\n",
    "## Description\n",
    "\n",
    "This algorithm uses to provide security KEM in TLS, encryption, IoT etc, OpenSSL.\n",
    "\n",
    "## Math Problem\n",
    "\n",
    "### Lattice-problem\n",
    "\n",
    "The lattice problem is a class of mathematical problems related to the geometric structure of lattices, which are grids of regularly spaced points in \n",
    "n\n",
    "n-dimensional space. Key problems include the Shortest Vector Problem (SVP) and the Closest Vector Problem (CVP). SVP seeks the shortest non-zero vector in a lattice, while CVP finds the lattice point nearest to a given target. These problems are foundational in cryptography, especially in constructing post-quantum cryptographic schemes due to their computational hardness. Lattice problems are challenging even for quantum computers, making them a cornerstone for secure communication in the face of advancing quantum technology.\n",
    "\n",
    "## Functions\n",
    "\n",
    "n = ? - param of kyber can be different<br>\n",
    "q = ? - param of kyber can be different<br>\n",
    "m = x^n + x^(n-1) ... x^0 - message\n",
    "\n",
    "A = random matrix<br>\n",
    "s = 'small' polynom/matrix<br>\n",
    "e = 'small' polynom/matrix<br>\n",
    "t = part of the secret key<br>\n",
    "(A, t) = Matrix A extended by t<br>\n",
    "(e1, e2) = Matrix e1 extended by e2<br>\n",
    "(0, t) = Empty Matrix 0 extended by t<br>\n",
    "(u, v) = cipher text<br>\n",
    "\n",
    "\n",
    "### Keygen\n",
    "Key gen example.<br>\n",
    "Create some A, s and e. s and e are 'small' numbers:<br>\n",
    "\n",
    "```\n",
    "t=A*s+e\n",
    "```\n",
    "\n",
    "(A, t) is the public key<br>\n",
    "s is the secret key\n",
    "\n",
    "### Encrypt\n",
    "\n",
    "Encryption has a few steps:\n",
    "\n",
    "```\n",
    "r * (A, t) = res + (e1, e2) + (0, e3) = (u, v)\n",
    "```\n",
    "\n",
    "### Decrypt\n",
    "\n",
    "Decryption example with math termin:\n",
    "\n",
    "```\n",
    "U*s ≈ v - m\n",
    "``` \n",
    "\n",
    "With trick we can get m by subtracting v.<br>\n",
    "U*s is close to v - m.\n",
    "\n",
    "full kyber uses complex structure then numbers"
   ]
  },
  {
   "cell_type": "code",
   "execution_count": 3,
   "metadata": {},
   "outputs": [],
   "source": [
    "import numpy as np\n",
    "\n",
    "# imports"
   ]
  },
  {
   "cell_type": "code",
   "execution_count": 11,
   "metadata": {},
   "outputs": [],
   "source": [
    "qCN = 7\n",
    "nCN = 4\n",
    "\n",
    "mCN = 5  # message 5"
   ]
  },
  {
   "cell_type": "code",
   "execution_count": null,
   "metadata": {},
   "outputs": [],
   "source": [
    "# Test data:\n",
    "\n",
    "A_test = [[8,-2,6,6], [8,3,4,10], [5,-4,6,-3], [9,5,-3,11]]\n",
    "s_test = [2,1,0,-1]\n",
    "e_test = [1,0,1,0]\n",
    "\n",
    "r_test = [1,2,1,0]\n",
    "e1e2_test = [0, 1, 0, 1, 1]\n",
    "\n"
   ]
  },
  {
   "cell_type": "code",
   "execution_count": null,
   "metadata": {},
   "outputs": [],
   "source": [
    "def keygen(a_temp = [], s_temp = [], e_temp = []) -> tuple:\n",
    "    A = np.random.randint(0, 10, size=(nCN, nCN))\n",
    "    s = np.random.randint(0, 10, size=nCN)\n",
    "    e = np.random.randint(-2, 2, size=nCN)\n",
    "\n",
    "    if len(a_temp) > 0:\n",
    "        A = a_temp\n",
    "    if len(s_temp) > 0:\n",
    "        s = s_temp\n",
    "    if len(e_temp) > 0:\n",
    "        e = e_temp\n",
    "\n",
    "    print(np.dot(A, s))    \n",
    "    t = np.dot(A, s) + e\n",
    "    return (s, (A,t), e )\n",
    "\n",
    "def encode(m, A, t):\n",
    "    r = np.random.randint(0, 10, size=nCN)\n",
    "    e1 = np.random.randint(-2, 2, size=nCN)\n",
    "    e2 = [1]\n",
    "\n",
    "    # At - A extended by t, e1e2 - e1 extended by e2, m0 - 0 vector extended by m\n",
    "    At = np.concatenate((A, t.reshape(-1,1)), axis=1)\n",
    "    res = np.dot(r, At)\n",
    "    e1e2 = np.concatenate((e1, e2))\n",
    "    m0 = np.concatenate((np.zeros(nCN), [m]))\n",
    "    \n",
    "    uv = res + e1e2 + m0 * qCN/2\n",
    "    return uv"
   ]
  },
  {
   "cell_type": "code",
   "execution_count": 103,
   "metadata": {},
   "outputs": [
    {
     "name": "stdout",
     "output_type": "stream",
     "text": [
      "n = 4, q = 7, m = 5\n",
      "PrivateKey: [[2, 1, 0, -1]]\n",
      "PublicKey: ([[8, -2, 6, 6], [8, 3, 4, 10], [5, -4, 6, -3], [9, 5, -3, 11]], array([[16, -6, 20, 11]]))\n",
      "Error: [1, 0, 1, 0]\n"
     ]
    }
   ],
   "source": [
    "priv_key, pub_key, error = keygen(A_test, s_test, e_test)\n",
    "# uv = encode(mCN, pub_key[0], pub_key[1])\n",
    "\n",
    "print(f\"n = {nCN}, q = {qCN}, m = {mCN}\")\n",
    "print(f\"PrivateKey: {priv_key}\")\n",
    "print(f\"PublicKey: {pub_key}\")\n",
    "print(f\"Error: {error}\")\n",
    "# print(f\"uv: {uv}\")"
   ]
  }
 ],
 "metadata": {
  "kernelspec": {
   "display_name": "Qiskit2",
   "language": "python",
   "name": "qiskit2"
  },
  "language_info": {
   "codemirror_mode": {
    "name": "ipython",
    "version": 3
   },
   "file_extension": ".py",
   "mimetype": "text/x-python",
   "name": "python",
   "nbconvert_exporter": "python",
   "pygments_lexer": "ipython3",
   "version": "3.12.4"
  }
 },
 "nbformat": 4,
 "nbformat_minor": 2
}
