{
 "cells": [
  {
   "cell_type": "markdown",
   "metadata": {},
   "source": [
    "# Kyber algorithm\n",
    "\n",
    "## Description\n",
    "\n",
    "This algorithm uses to provide security KEM in TLS, encryption, IoT etc, OpenSSL.\n",
    "\n",
    "## Math Problem\n",
    "\n",
    "### Lattice-problem\n",
    "\n",
    "The lattice problem is a class of mathematical problems related to the geometric structure of lattices, which are grids of regularly spaced points in \n",
    "n\n",
    "n-dimensional space. Key problems include the Shortest Vector Problem (SVP) and the Closest Vector Problem (CVP). SVP seeks the shortest non-zero vector in a lattice, while CVP finds the lattice point nearest to a given target. These problems are foundational in cryptography, especially in constructing post-quantum cryptographic schemes due to their computational hardness. Lattice problems are challenging even for quantum computers, making them a cornerstone for secure communication in the face of advancing quantum technology.\n",
    "\n",
    "## Functions\n",
    "\n",
    "n = ? - param of kyber can be different<br>\n",
    "q = ? - param of kyber can be different<br>\n",
    "m = x^n + x^(n-1) ... x^0 - message\n",
    "\n",
    "A = random matrix<br>\n",
    "s = 'small' polynom/matrix<br>\n",
    "e = 'small' polynom/matrix<br>\n",
    "t = part of the secret key<br>\n",
    "(A, t) = Matrix A extended by t<br>\n",
    "(e1, e2) = Matrix e1 extended by e2<br>\n",
    "(0, t) = Empty Matrix 0 extended by t<br>\n",
    "(u, v) = cipher text<br>\n",
    "\n",
    "\n",
    "### Keygen\n",
    "Key gen example.<br>\n",
    "Create some A, s and e. s and e are 'small' numbers:<br>\n",
    "\n",
    "```\n",
    "t=A*s+e\n",
    "```\n",
    "\n",
    "(A, t) is the public key<br>\n",
    "s is the secret key\n",
    "\n",
    "### Encrypt\n",
    "\n",
    "Encryption has a few steps:\n",
    "\n",
    "```\n",
    "r * (A, t) = res + (e1, e2) + (0, e3) = (u, v)\n",
    "```\n",
    "\n",
    "### Decrypt\n",
    "\n",
    "Decryption example with math termin:\n",
    "\n",
    "```\n",
    "U*s ≈ v - m\n",
    "``` \n",
    "\n",
    "With trick we can get m by subtracting v.<br>\n",
    "U*s is close to v - m.\n",
    "\n",
    "full kyber uses complex structure then numbers"
   ]
  },
  {
   "cell_type": "code",
   "execution_count": null,
   "metadata": {},
   "outputs": [],
   "source": [
    "import numpy as np"
   ]
  },
  {
   "cell_type": "code",
   "execution_count": null,
   "metadata": {},
   "outputs": [],
   "source": [
    "q = 7  # Modulus\n",
    "n = 3  # Polynomial degree\n",
    "eta = 2  # Bound for small coefficients"
   ]
  },
  {
   "cell_type": "code",
   "execution_count": null,
   "metadata": {},
   "outputs": [],
   "source": [
    "# Polynomial multiplication modulo (x^n + 1)\n",
    "def poly_mult_mod(poly1, poly2, q, n):\n",
    "    result = np.zeros(2 * n - 1, dtype=int)\n",
    "    for i in range(len(poly1)):\n",
    "        for j in range(len(poly2)):\n",
    "            result[i + j] += poly1[i] * poly2[j]\n",
    "    # Reduce modulo x^n + 1\n",
    "    for i in range(n, len(result)):\n",
    "        result[i - n] -= result[i]\n",
    "    result = result[:n]  # Keep only degree < n\n",
    "    return result % q"
   ]
  },
  {
   "cell_type": "code",
   "execution_count": null,
   "metadata": {},
   "outputs": [],
   "source": [
    "def poly_add_mod(poly1, poly2, q):\n",
    "    return (np.array(poly1) + np.array(poly2)) % q\n",
    "\n",
    "def poly_sub_mod(poly1, poly2, q):\n",
    "    return (np.array(poly1) - np.array(poly2)) % q\n",
    "\n",
    "def encode_message(msg, q):\n",
    "    return np.array([int(b) * (q // 2) for b in msg], dtype=int)  # Encodes {0, 1} -> {0, q/2}\n",
    "\n",
    "def decode_message(poly, q):\n",
    "    return np.array([(1 if coef > q // 4 and coef < 3 * q // 4 else 0) for coef in poly])"
   ]
  },
  {
   "cell_type": "code",
   "execution_count": null,
   "metadata": {},
   "outputs": [
    {
     "name": "stdout",
     "output_type": "stream",
     "text": [
      "Public polynomial a: [1, 2, 1]\n",
      "Private key s: [2, 1, -1]\n",
      "Error polynomial e: [-1, 0, 1]\n",
      "Public key b: [2 6 4]\n",
      "\n",
      "Sender's private key s': [1, -1, 1]\n",
      "Error polynomials e', e'' for encryption: [0, 1, -1] [1, -1, 0]\n",
      "Encoded message: [3 0 3]\n",
      "Ciphertext (u, v):\n",
      "u: [0 1 6]\n",
      "v: [4 6 3]\n",
      "\n",
      "Message polynomial: [1, 0, 1]\n",
      "\n",
      "Decrypted message polynomial: [2 5 4]\n",
      "Decoded message: [1 0 1]\n"
     ]
    }
   ],
   "source": [
    "a = [1, 2, 1]  # Public polynomial\n",
    "s = [2, 1, -1]  # Private key polynomial s\n",
    "e = [-1, 0, 1]  # Error polynomial\n",
    "\n",
    "# Compute public key b = a * s + e (mod q)\n",
    "b = poly_add_mod(poly_mult_mod(a, s, q, n), e, q)\n",
    "\n",
    "# Sender's private polynomials\n",
    "s_prime = [1, -1, 1]  # Private key polynomial \n",
    "e_prime = [0, 1, -1]  # Error polynomial \n",
    "e_double_prime = [1, -1, 0]  # Error polynomial for message encryption\n",
    "\n",
    "# Message to encrypt\n",
    "message = [1, 0, 1]\n",
    "encoded_message = encode_message(message, q)\n",
    "\n",
    "# c = (u, v)\n",
    "u = poly_add_mod(poly_mult_mod(a, s_prime, q, n), e_prime, q)  # u = a * s' + e'\n",
    "v = poly_add_mod(poly_mult_mod(b, s_prime, q, n), encoded_message + e_double_prime, q)  # v = b * s' + m + e''\n",
    "\n",
    "# Simulate decryption\n",
    "v_minus_us = poly_sub_mod(v, poly_mult_mod(u, s, q, n), q)  # v - u * s (mod q)\n",
    "decoded_message = decode_message(v_minus_us, q)  # Decode"
   ]
  },
  {
   "cell_type": "code",
   "execution_count": null,
   "metadata": {},
   "outputs": [],
   "source": [
    "# Print results\n",
    "print(\"Public polynomial a:\", a)\n",
    "print(\"Private key s:\", s)\n",
    "print(\"Error polynomial e:\", e)\n",
    "print(\"Public key b:\", b)\n",
    "\n",
    "print(\"\\nSender's private key s':\", s_prime)\n",
    "print(\"Error polynomials e', e'' for encryption:\", e_prime, e_double_prime)\n",
    "print(\"Encoded message:\", encoded_message)\n",
    "print(\"Ciphertext (u, v):\")\n",
    "print(\"u:\", u)\n",
    "print(\"v:\", v)\n",
    "\n",
    "print(\"\\nMessage polynomial:\", message)\n",
    "print(\"\\nDecrypted message polynomial:\", v_minus_us)\n",
    "print(\"Decoded message:\", decoded_message)"
   ]
  },
  {
   "cell_type": "code",
   "execution_count": null,
   "metadata": {},
   "outputs": [
    {
     "ename": "ModuleNotFoundError",
     "evalue": "No module named 'pqcrypto._kem.kyber512'",
     "output_type": "error",
     "traceback": [
      "\u001b[0;31m---------------------------------------------------------------------------\u001b[0m",
      "\u001b[0;31mModuleNotFoundError\u001b[0m                       Traceback (most recent call last)",
      "Cell \u001b[0;32mIn[7], line 2\u001b[0m\n\u001b[1;32m      1\u001b[0m \u001b[38;5;66;03m# Install the pqcrypto package\u001b[39;00m\n\u001b[0;32m----> 2\u001b[0m \u001b[38;5;28;01mfrom\u001b[39;00m \u001b[38;5;21;01mpqcrypto\u001b[39;00m\u001b[38;5;21;01m.\u001b[39;00m\u001b[38;5;21;01mkem\u001b[39;00m\u001b[38;5;21;01m.\u001b[39;00m\u001b[38;5;21;01mkyber512\u001b[39;00m \u001b[38;5;28;01mimport\u001b[39;00m generate_keypair, encapsulate, decapsulate\n\u001b[1;32m      4\u001b[0m \u001b[38;5;66;03m# Step 1: Generate a public/private key pair\u001b[39;00m\n\u001b[1;32m      5\u001b[0m public_key, private_key \u001b[38;5;241m=\u001b[39m generate_keypair()\n",
      "File \u001b[0;32m~/Programming/projects/my/SOC2025/myenv/lib/python3.12/site-packages/pqcrypto/kem/kyber512.py:1\u001b[0m\n\u001b[0;32m----> 1\u001b[0m \u001b[38;5;28;01mfrom\u001b[39;00m \u001b[38;5;21;01m.\u001b[39;00m\u001b[38;5;21;01m.\u001b[39;00m\u001b[38;5;21;01m_kem\u001b[39;00m\u001b[38;5;21;01m.\u001b[39;00m\u001b[38;5;21;01mkyber512\u001b[39;00m \u001b[38;5;28;01mimport\u001b[39;00m ffi \u001b[38;5;28;01mas\u001b[39;00m __ffi, lib \u001b[38;5;28;01mas\u001b[39;00m __lib\n\u001b[1;32m      2\u001b[0m \u001b[38;5;28;01mfrom\u001b[39;00m \u001b[38;5;21;01m.\u001b[39;00m\u001b[38;5;21;01mcommon\u001b[39;00m \u001b[38;5;28;01mimport\u001b[39;00m _kem_generate_keypair_factory, _kem_encrypt_factory, _kem_decrypt_factory\n\u001b[1;32m      4\u001b[0m PUBLIC_KEY_SIZE \u001b[38;5;241m=\u001b[39m __lib\u001b[38;5;241m.\u001b[39mCRYPTO_PUBLICKEYBYTES\n",
      "\u001b[0;31mModuleNotFoundError\u001b[0m: No module named 'pqcrypto._kem.kyber512'"
     ]
    }
   ],
   "source": [
    "from kyber_py.kyber import Kyber512\n",
    "pk, sk = Kyber512.keygen()\n",
    "key, c = Kyber512.encaps(pk)\n",
    "_key = Kyber512.decaps(sk, c)\n",
    "assert key == _key\n",
    "\n",
    "print(\"Kyber512 works!\")\n",
    "print(\"pk:\", pk)\n",
    "print(\"sk:\", sk)\n",
    "print(\"key:\", key)\n",
    "print(\"c:\", c)\n",
    "print(\"_key:\", _key)\n"
   ]
  }
 ],
 "metadata": {
  "kernelspec": {
   "display_name": "myenv",
   "language": "python",
   "name": "python3"
  },
  "language_info": {
   "codemirror_mode": {
    "name": "ipython",
    "version": 3
   },
   "file_extension": ".py",
   "mimetype": "text/x-python",
   "name": "python",
   "nbconvert_exporter": "python",
   "pygments_lexer": "ipython3",
   "version": "3.12.4"
  }
 },
 "nbformat": 4,
 "nbformat_minor": 2
}
